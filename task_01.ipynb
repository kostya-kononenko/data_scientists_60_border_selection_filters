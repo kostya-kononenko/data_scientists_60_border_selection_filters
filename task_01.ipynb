{
 "cells": [
  {
   "cell_type": "code",
   "execution_count": 1,
   "id": "d1031e49",
   "metadata": {},
   "outputs": [],
   "source": [
    "import cv2\n",
    "import numpy as np"
   ]
  },
  {
   "cell_type": "code",
   "execution_count": 3,
   "id": "7cb7bcb2",
   "metadata": {},
   "outputs": [],
   "source": [
    "apple = cv2.imread('apple.jpeg')\n",
    "sport_car = cv2.imread('sport_car.jpeg')"
   ]
  },
  {
   "cell_type": "code",
   "execution_count": 4,
   "id": "173fc8c0",
   "metadata": {},
   "outputs": [],
   "source": [
    "gray_apple = cv2.cvtColor(apple, cv2.COLOR_BGR2GRAY)\n",
    "gray_sport_car = cv2.cvtColor(sport_car, cv2.COLOR_BGR2GRAY)"
   ]
  },
  {
   "cell_type": "code",
   "execution_count": 5,
   "id": "45c3bf63",
   "metadata": {},
   "outputs": [],
   "source": [
    "sobelx = cv2.Sobel(gray_apple, cv2.CV_64F, 1, 0, ksize=3)\n",
    "sobely = cv2.Sobel(gray_apple, cv2.CV_64F, 0, 1, ksize=3)\n",
    "sobel_apple = sobelx + sobely"
   ]
  },
  {
   "cell_type": "code",
   "execution_count": 6,
   "id": "63dc350a",
   "metadata": {},
   "outputs": [],
   "source": [
    "sobelx = cv2.Sobel(gray_sport_car, cv2.CV_64F, 1, 0, ksize=3)\n",
    "sobely = cv2.Sobel(gray_sport_car, cv2.CV_64F, 0, 1, ksize=3)\n",
    "sobel_sport_car = sobelx + sobely"
   ]
  },
  {
   "cell_type": "code",
   "execution_count": null,
   "id": "096970ee",
   "metadata": {},
   "outputs": [],
   "source": [
    "cv2.imshow('sobel_apple', sobel_apple)\n",
    "cv2.imshow('sobel_sport_car', sobel_sport_car)\n",
    "cv2.waitKey(0)\n",
    "cv2.destroyAllWindows()"
   ]
  },
  {
   "cell_type": "code",
   "execution_count": null,
   "id": "36bacb43",
   "metadata": {},
   "outputs": [],
   "source": [
    "canny_apple = cv2.Canny(gray_apple, 50, 150)\n",
    "canny_sport_car = cv2.Canny(gray_sport_car, 50, 150)"
   ]
  },
  {
   "cell_type": "code",
   "execution_count": 22,
   "id": "82522574",
   "metadata": {},
   "outputs": [],
   "source": [
    "cv2.imshow('canny_apple', canny_apple)\n",
    "cv2.imshow('canny_sport_car', canny_sport_car)\n",
    "cv2.waitKey(0)\n",
    "cv2.destroyAllWindows()"
   ]
  },
  {
   "cell_type": "code",
   "execution_count": 23,
   "id": "721735df",
   "metadata": {},
   "outputs": [],
   "source": [
    "roberts_kernel_x = np.array([[1, 0], [0, -1]], dtype=int)\n",
    "roberts_kernel_y = np.array([[0, 1], [-1, 0]], dtype=int)"
   ]
  },
  {
   "cell_type": "code",
   "execution_count": 24,
   "id": "3e60faf1",
   "metadata": {},
   "outputs": [],
   "source": [
    "robertsx = cv2.filter2D(gray_apple, -1, roberts_kernel_x)\n",
    "robertsy = cv2.filter2D(gray_apple, -1, roberts_kernel_y)\n",
    "roberts_apple = robertsx + robertsy"
   ]
  },
  {
   "cell_type": "code",
   "execution_count": 25,
   "id": "b10f4171",
   "metadata": {},
   "outputs": [],
   "source": [
    "roberts_x = cv2.filter2D(gray_sport_car, -1, roberts_kernel_x)\n",
    "roberts_y = cv2.filter2D(gray_sport_car, -1, roberts_kernel_y)\n",
    "roberts_sport_car = roberts_x + roberts_y"
   ]
  },
  {
   "cell_type": "code",
   "execution_count": 26,
   "id": "2b3bf543",
   "metadata": {},
   "outputs": [],
   "source": [
    "cv2.imshow('roberts_peach', roberts_apple)\n",
    "cv2.imshow('roberts_maps', roberts_sport_car)\n",
    "cv2.waitKey(0)\n",
    "cv2.destroyAllWindows()"
   ]
  },
  {
   "attachments": {},
   "cell_type": "markdown",
   "id": "1db5a667",
   "metadata": {},
   "source": [
    "### Sobel, Kenny, and Roberts filters are popular algorithms for image boundary extraction. The main difference between them is how they define the boundaries in the image and which kernels are used for this.\n",
    "### The Sobel filter works well on images with significant noise levels, but can filter out fine edges.\n",
    "### The Roberts filter is very fast, but may lose some sensitivity to fine boundaries.\n",
    "### After passing through several stages, the Kenny filter allows you to get more accurate and reliable results for determining the boundaries in the image. It is the most accurate, but relatively slow.\n",
    "### In the end, the choice of filter depends on the needs of the particular case, such as processing speed, noise level in the image, size of the image, and the need for precision in defining the boundaries in the image."
   ]
  }
 ],
 "metadata": {
  "kernelspec": {
   "display_name": "Python 3 (ipykernel)",
   "language": "python",
   "name": "python3"
  },
  "language_info": {
   "codemirror_mode": {
    "name": "ipython",
    "version": 3
   },
   "file_extension": ".py",
   "mimetype": "text/x-python",
   "name": "python",
   "nbconvert_exporter": "python",
   "pygments_lexer": "ipython3",
   "version": "3.11.3"
  }
 },
 "nbformat": 4,
 "nbformat_minor": 5
}
